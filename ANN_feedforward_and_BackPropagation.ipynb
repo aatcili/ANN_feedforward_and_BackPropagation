{
 "cells": [
  {
   "cell_type": "code",
   "execution_count": 1,
   "metadata": {},
   "outputs": [],
   "source": [
    "import numpy as np\n",
    "import matplotlib.pyplot as plt"
   ]
  },
  {
   "cell_type": "code",
   "execution_count": 2,
   "metadata": {},
   "outputs": [],
   "source": [
    "w1 = np.random.randn(5,4)\n",
    "b1 = np.random.randn(1,4)\n",
    "w2 = np.random.randn(4,4)\n",
    "b2 = np.random.randn(1,4)\n",
    "w3 = np.random.randn(4,1)\n",
    "b3 = np.random.randn(1,1)"
   ]
  },
  {
   "cell_type": "code",
   "execution_count": 3,
   "metadata": {},
   "outputs": [
    {
     "data": {
      "text/plain": [
       "array([[-0.35237883,  0.2202013 , -1.70386761,  0.11518692],\n",
       "       [-0.79171102,  0.94407449,  0.81700081,  0.83153862],\n",
       "       [-0.32617574,  1.22125737,  1.04349322,  2.25188588],\n",
       "       [ 1.18820138,  1.1612733 ,  1.23271541, -0.7456664 ],\n",
       "       [-1.33326637, -0.94628231, -0.1947534 , -1.56141822]])"
      ]
     },
     "execution_count": 3,
     "metadata": {},
     "output_type": "execute_result"
    }
   ],
   "source": [
    "w1[:5]"
   ]
  },
  {
   "cell_type": "code",
   "execution_count": 4,
   "metadata": {},
   "outputs": [],
   "source": [
    "X = np.random.randn(900,5)\n",
    "beta = np.random.randn(5,1)"
   ]
  },
  {
   "cell_type": "code",
   "execution_count": 5,
   "metadata": {},
   "outputs": [],
   "source": [
    "y = np.log(X@beta + 20)"
   ]
  },
  {
   "cell_type": "markdown",
   "metadata": {},
   "source": [
    "### FeedForward Propagation"
   ]
  },
  {
   "cell_type": "code",
   "execution_count": 6,
   "metadata": {},
   "outputs": [],
   "source": [
    "def relu (x):\n",
    "    return (x>0) * x"
   ]
  },
  {
   "cell_type": "code",
   "execution_count": 7,
   "metadata": {},
   "outputs": [
    {
     "data": {
      "text/plain": [
       "array([[-0.        ,  0.2202013 , -0.        ,  0.11518692],\n",
       "       [-0.        ,  0.94407449,  0.81700081,  0.83153862],\n",
       "       [-0.        ,  1.22125737,  1.04349322,  2.25188588],\n",
       "       [ 1.18820138,  1.1612733 ,  1.23271541, -0.        ],\n",
       "       [-0.        , -0.        , -0.        , -0.        ]])"
      ]
     },
     "execution_count": 7,
     "metadata": {},
     "output_type": "execute_result"
    }
   ],
   "source": [
    "relu(w1)"
   ]
  },
  {
   "cell_type": "code",
   "execution_count": 8,
   "metadata": {},
   "outputs": [],
   "source": [
    "def sigmoid(x):\n",
    "    return 1 / 1 + np.exp(-x)"
   ]
  },
  {
   "cell_type": "code",
   "execution_count": 9,
   "metadata": {},
   "outputs": [],
   "source": [
    "z1 = X @ w1 + b1\n",
    "a1 = relu(z1)\n",
    "z2 =a1@w2 + b2\n",
    "a2 = relu(z2)\n",
    "z3 = a2 @w3 + b3\n",
    "y_pred = z3 # that is a regression problem, so no need a activation function"
   ]
  },
  {
   "cell_type": "code",
   "execution_count": 10,
   "metadata": {},
   "outputs": [
    {
     "data": {
      "text/plain": [
       "20.442097706858135"
      ]
     },
     "execution_count": 10,
     "metadata": {},
     "output_type": "execute_result"
    }
   ],
   "source": [
    "mse = 1/900 * np.sum((y-y_pred)**2)\n",
    "mse"
   ]
  },
  {
   "cell_type": "code",
   "execution_count": 11,
   "metadata": {},
   "outputs": [
    {
     "data": {
      "text/plain": [
       "20.442097706858135"
      ]
     },
     "execution_count": 11,
     "metadata": {},
     "output_type": "execute_result"
    }
   ],
   "source": [
    "np.mean((y-y_pred)**2)"
   ]
  },
  {
   "cell_type": "markdown",
   "metadata": {},
   "source": [
    "### Back Propagation"
   ]
  },
  {
   "cell_type": "code",
   "execution_count": 12,
   "metadata": {},
   "outputs": [],
   "source": [
    "dy_pred = y_pred - y\n",
    "dw3 = (1/900) * (a2.T @ dy_pred)\n",
    "db3 = 1/900 * np.sum(y_pred -y, axis = 0, keepdims= True)\n",
    "da2 = (y_pred - y) @ w3.T\n",
    "dz2 = da2 * (a2>0).astype(float)\n",
    "dw2 = (1/900) * (a1.T @dz2)\n",
    "db2 = (1/900) * np.sum(dz2, axis = 0, keepdims=True)\n",
    "da1 = dz2 @ w2.T\n",
    "dz1 = da1 * (a1>0).astype(float)\n",
    "dw1 = (1/900) * X.T @ dz1\n",
    "db1 = (1/900) * np.sum(dz1, axis = 0, keepdims= True)"
   ]
  },
  {
   "cell_type": "code",
   "execution_count": 13,
   "metadata": {},
   "outputs": [],
   "source": [
    "lr = 0.1 # learning rate"
   ]
  },
  {
   "cell_type": "code",
   "execution_count": 14,
   "metadata": {},
   "outputs": [],
   "source": [
    "w1 = w1 - lr * dw1\n",
    "b1 = b1 - lr * db1\n",
    "w2 = w2 - lr * dw2\n",
    "b2 = b2 - lr * db2\n",
    "w3 = w3 - lr * dw3\n",
    "b3 = b3 - lr * db3"
   ]
  },
  {
   "cell_type": "code",
   "execution_count": 15,
   "metadata": {},
   "outputs": [
    {
     "data": {
      "text/plain": [
       "24.498318684046072"
      ]
     },
     "execution_count": 15,
     "metadata": {},
     "output_type": "execute_result"
    }
   ],
   "source": [
    "np.abs(dw1).sum()"
   ]
  },
  {
   "cell_type": "markdown",
   "metadata": {},
   "source": [
    "#### With gradient descent"
   ]
  },
  {
   "cell_type": "code",
   "execution_count": 16,
   "metadata": {},
   "outputs": [
    {
     "name": "stdout",
     "output_type": "stream",
     "text": [
      "l: 6.561925455895707\n",
      "dw1: 12.316882474737382\n",
      "dw2: 16.003512164977415\n",
      "dw3: 10.482034338121835\n",
      "l: 0.08336092946827714\n",
      "dw1: 4.919195598538808\n",
      "dw2: 4.023904994966994\n",
      "dw3: 0.06475324582481612\n",
      "l: 0.03398771427004625\n",
      "dw1: 4.31868290930162\n",
      "dw2: 3.3407806720042323\n",
      "dw3: 0.04448293355470607\n",
      "l: 0.018177430388224967\n",
      "dw1: 2.278916511597008\n",
      "dw2: 1.5835723747271215\n",
      "dw3: 0.025564539797036587\n",
      "l: 0.013018435040848379\n",
      "dw1: 0.75738841823038\n",
      "dw2: 0.4971447955623043\n",
      "dw3: 0.01460664098551015\n",
      "l: 0.011334980828526157\n",
      "dw1: 0.10784211632262482\n",
      "dw2: 0.07923586939686365\n",
      "dw3: 0.008343952878961069\n"
     ]
    }
   ],
   "source": [
    "for i in range(501):\n",
    "    z1 = X@w1+ b1\n",
    "    a1 = relu(z1)\n",
    "    a2 = a1@w2 + b2\n",
    "    a2 = relu(z2)\n",
    "    y_pred = a2@w3 + b3\n",
    "    if i%100==0:\n",
    "        print(\"l:\", np.mean((y-y_pred)**2))\n",
    "\n",
    "    dy_pred = y_pred - y\n",
    "    dw3 = 1/900*(a2.T@dy_pred)\n",
    "    db3 = 1/900*(np.sum(dy_pred, axis=0, keepdims=True))\n",
    "    da2 = dy_pred@w3.T\n",
    "    dz2 = da2*(a2>0).astype(float)\n",
    "    dw2 = 1/900*(a1.T@dz2)\n",
    "    db2 = 1/900*(np.sum(dz2, axis=0, keepdims=True))\n",
    "    da1 = dz2@w2.T\n",
    "    dz1 = da1*(a1>0).astype(float)\n",
    "    dw1 = 1/900*(X.T@dz1)\n",
    "    db1 = 1/900*(np.sum(dz1, axis=0, keepdims=True))\n",
    "\n",
    "    w1 = w1 - lr*dw1\n",
    "    b1 = b1 - lr*db1\n",
    "    w2 = w2 - lr*dw2\n",
    "    b2 = b2 - lr*db2\n",
    "    w3 = w3 - lr*dw3\n",
    "    b3 = b3 - lr*db3\n",
    "\n",
    "    if i%100==0:\n",
    "        print(\"dw1:\", np.abs(dw1).sum())\n",
    "        print(\"dw2:\", np.abs(dw2).sum())\n",
    "        print(\"dw3:\", np.abs(dw3).sum())"
   ]
  },
  {
   "cell_type": "markdown",
   "metadata": {},
   "source": [
    "#### With Stochastic Gradient Descent"
   ]
  },
  {
   "cell_type": "code",
   "execution_count": 17,
   "metadata": {},
   "outputs": [],
   "source": [
    "X = np.random.randn(90,5)\n",
    "beta = np.random.randn(5,1)\n",
    "y = np.log(X@beta+20)"
   ]
  },
  {
   "cell_type": "code",
   "execution_count": 18,
   "metadata": {},
   "outputs": [],
   "source": [
    "w1 = np.random.randn(5,4)\n",
    "b1 = np.zeros(shape=(1,4))\n",
    "w2 = np.random.randn(4,4)\n",
    "b2 = np.zeros(shape=(1,4))\n",
    "w3 = np.random.randn(4,1)\n",
    "b3 = np.zeros(shape=(1,1))\n",
    "lr = 0.1"
   ]
  },
  {
   "cell_type": "code",
   "execution_count": 19,
   "metadata": {},
   "outputs": [
    {
     "name": "stdout",
     "output_type": "stream",
     "text": [
      "l: 0.011318464864185212\n",
      "dw3: 0.0\n",
      "l: 0.011296082905897037\n",
      "dw3: 0.0\n",
      "l: 0.011296082905897037\n",
      "dw3: 0.0\n",
      "l: 0.011296082905897037\n",
      "dw3: 0.0\n",
      "l: 0.011296082905897037\n",
      "dw3: 0.0\n",
      "l: 0.011296082905897037\n",
      "dw3: 0.0\n"
     ]
    }
   ],
   "source": [
    "for i in range(501):\n",
    "    for rx, ry in zip(X, y):\n",
    "        # feedforward\n",
    "        rx = rx.reshape(1,-1)\n",
    "        m = rx.shape[0]\n",
    "        ry = ry.reshape(1,-1)\n",
    "        z1 = rx @ w1+ b1\n",
    "        a1 = relu(z1)\n",
    "        z2 = a1 @ w2 + b2\n",
    "        a2 = relu(z2)\n",
    "        y_pred = a2 @ w3 + b3\n",
    "        \n",
    "        # back propagation\n",
    "        dy_pred = y_pred - ry\n",
    "        dw3 = 1/m*(a2.T @ dy_pred)\n",
    "        db3 = 1/m*(np.sum(dy_pred, axis=0, keepdims=True))\n",
    "        da2 = dy_pred @ w3.T\n",
    "        dz2 = da2*(a2>0).astype(float)\n",
    "        dw2 = 1/m*(a1.T @ dz2)\n",
    "        db2 = 1/m*(np.sum(dz2, axis=0, keepdims=True))\n",
    "        da1 = dz2 @ w2.T\n",
    "        dz1 = da1*(a1>0).astype(float)\n",
    "        dw1 = 1/m*(rx.T @ dz1)\n",
    "        db1 = 1/m*(np.sum(dz1, axis=0, keepdims=True))\n",
    "        \n",
    "        \n",
    "        # better w values\n",
    "        w1 = w1 - lr*dw1\n",
    "        b1 = b1 - lr*db1\n",
    "        w2 = w2 - lr*dw2\n",
    "        b2 = b2 - lr*db2\n",
    "        w3 = w3 - lr*dw3\n",
    "        b3 = b3 - lr*db3\n",
    "\n",
    "    if i%100==0:\n",
    "\n",
    "        print(\"l:\", np.mean((y-y_pred)**2))\n",
    "        print(\"dw3:\", np.abs(dw3).sum())"
   ]
  }
 ],
 "metadata": {
  "kernelspec": {
   "display_name": "Python 3",
   "language": "python",
   "name": "python3"
  },
  "language_info": {
   "codemirror_mode": {
    "name": "ipython",
    "version": 3
   },
   "file_extension": ".py",
   "mimetype": "text/x-python",
   "name": "python",
   "nbconvert_exporter": "python",
   "pygments_lexer": "ipython3",
   "version": "3.7.6"
  }
 },
 "nbformat": 4,
 "nbformat_minor": 2
}
